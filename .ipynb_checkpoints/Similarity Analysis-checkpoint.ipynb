{
 "cells": [
  {
   "cell_type": "code",
   "execution_count": 13,
   "metadata": {},
   "outputs": [],
   "source": [
    "# Imports. Requests for https requests. BeautifulSoup for html scraping. Pandas for data analysis. \n",
    "# sklearn for similarity functions, such as word counter and cosine similarity\n",
    "\n",
    "import requests\n",
    "import pandas as pd\n",
    "from bs4 import BeautifulSoup\n",
    "from sklearn.feature_extraction.text import CountVectorizer\n",
    "from sklearn.metrics.pairwise import cosine_similarity\n",
    "\n",
    "# This can get initialized up here, as it will be constant throughout. \n",
    "count_vectorizer = CountVectorizer(stop_words='english')"
   ]
  },
  {
   "cell_type": "code",
   "execution_count": 32,
   "metadata": {},
   "outputs": [],
   "source": [
    "# wikiArticle class. Named 'wikiArticle' for lack of inspiration. Will hold all relevant data on an article. \n",
    "\n",
    "class WikiArticle:\n",
    "    def __init__(self, url):\n",
    "        self.url = url\n",
    "        self.soup = BeautifulSoup(requests.get(self.url).text, \"html\")\n",
    "        self.main_title = self.soup.find_all(\"h1\")[0].get_text()\n",
    "        self.secondary_titles = \"\"\n",
    "        \n",
    "    def get_secondary_titles(self):\n",
    "        # Check length to make sure secondary_titles list hasnt already been filled. Don't want duplicate data messing us up. \n",
    "        if(len(self.secondary_titles) == 0):\n",
    "            for secondary_title in self.soup.find_all(\"h2\"):\n",
    "                self.secondary_titles += \" \" + secondary_title.get_text()\n",
    "            \n"
   ]
  },
  {
   "cell_type": "code",
   "execution_count": 33,
   "metadata": {},
   "outputs": [],
   "source": [
    "def jaccard_analysis(article_one, article_two):\n",
    "    \"\"\"Parameters\n",
    "       ----------\n",
    "       Right now this function takes two strings as its parameters (article_one, article_two). In the future, it should take \n",
    "       WikiArticle instances to allow multiple sub-headers to be analyzed together. \n",
    "       \n",
    "       Returns\n",
    "       --------\n",
    "       Jaccard Similarity Percentage.\"\"\"\n",
    "    a = set(article_one.split(\" \"))\n",
    "    b = set(article_two.split(\" \"))\n",
    "    comparison = a.intersection(b)\n",
    "    return float(len(comparison)) / (len(a) + len(b) - len(comparison))\n",
    "    \n",
    "    \n",
    "    "
   ]
  },
  {
   "cell_type": "code",
   "execution_count": 44,
   "metadata": {},
   "outputs": [
    {
     "name": "stdout",
     "output_type": "stream",
     "text": [
      "Main title similarity 0.25\n",
      "Secondary title similarity 0.3548387096774194\n"
     ]
    }
   ],
   "source": [
    "article_one = WikiArticle(\"https://en.wikipedia.org/wiki/IBM_mainframe\")\n",
    "article_two = WikiArticle(\"https://en.wikipedia.org/wiki/History_of_IBM\")\n",
    "\n",
    "# I don't like that I have to call this, it should be done automatically. Refactoring needed. \n",
    "article_one.get_secondary_titles()\n",
    "article_two.get_secondary_titles()\n",
    "\n",
    "print(\"Main title similarity \" + str(jaccard_analysis(article_one.main_title, article_two.main_title)))\n",
    "\n",
    "# This is innacurate, due to poorly defined (really just complete lack of) stop words such as 'Contents' and 'edit'. See cell below. \n",
    "print(\"Secondary title similarity \" + str(jaccard_analysis(article_one.secondary_titles, article_two.secondary_titles)))"
   ]
  },
  {
   "cell_type": "code",
   "execution_count": 43,
   "metadata": {},
   "outputs": [
    {
     "name": "stdout",
     "output_type": "stream",
     "text": [
      " Contents First and second generation[edit] Smaller machines[edit] IBM System/360[edit] Today's systems[edit] See also[edit] References[edit] Further reading[edit] External links[edit] Navigation menu\n",
      "----------------------------\n",
      " Contents Chronology[edit] Twentieth-century market power and antitrust[edit] Products and technologies[edit] Organization[edit] See also[edit] Notes and references[edit] Further reading[edit] External links[edit] Navigation menu\n"
     ]
    }
   ],
   "source": [
    "## This cell is dedicated to scrap work at this point. Everything can, should, and will be modularized, this just helps me understand it first.\n",
    "\n",
    "print(article_one.secondary_titles)\n",
    "print(\"----------------------------\")\n",
    "print(article_two.secondary_titles)"
   ]
  }
 ],
 "metadata": {
  "kernelspec": {
   "display_name": "Python 3",
   "language": "python",
   "name": "python3"
  },
  "language_info": {
   "codemirror_mode": {
    "name": "ipython",
    "version": 3
   },
   "file_extension": ".py",
   "mimetype": "text/x-python",
   "name": "python",
   "nbconvert_exporter": "python",
   "pygments_lexer": "ipython3",
   "version": "3.7.3"
  }
 },
 "nbformat": 4,
 "nbformat_minor": 2
}
